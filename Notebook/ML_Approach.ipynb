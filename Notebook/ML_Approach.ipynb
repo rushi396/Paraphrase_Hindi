{
  "nbformat": 4,
  "nbformat_minor": 0,
  "metadata": {
    "colab": {
      "provenance": [],
      "collapsed_sections": []
    },
    "kernelspec": {
      "name": "python3",
      "display_name": "Python 3"
    },
    "language_info": {
      "name": "python"
    }
  },
  "cells": [
    {
      "cell_type": "markdown",
      "source": [
        "#IMPORTS"
      ],
      "metadata": {
        "id": "TIp2KMpU_Zhj"
      }
    },
    {
      "cell_type": "code",
      "source": [
        "#hindi wordnet and codecs,re\n",
        "import codecs\n",
        "import re\n",
        "!pip install pyiwn\n",
        "import pyiwn\n",
        "iwn = pyiwn.IndoWordNet()\n",
        "\n",
        "#sklearn,numpy,pandas,pickle\n",
        "import numpy as np\n",
        "import pandas as pd\n",
        "import matplotlib.pyplot as plt\n",
        "from sklearn.model_selection import train_test_split\n",
        "import pickle\n",
        "\n",
        "#models\n",
        "from sklearn.svm import SVC\n",
        "from sklearn.ensemble import RandomForestClassifier as rfc\n",
        "\n",
        "#accuracy metrics\n",
        "from sklearn.metrics import accuracy_score\n",
        "from sklearn.metrics import mean_squared_error\n",
        "from sklearn.metrics import mean_absolute_error\n",
        "from sklearn.metrics import confusion_matrix,classification_report"
      ],
      "metadata": {
        "id": "KqV2F4RhBeDb",
        "colab": {
          "base_uri": "https://localhost:8080/"
        },
        "outputId": "5579b5c0-d3a2-4911-9971-bda5f1957aca"
      },
      "execution_count": 545,
      "outputs": [
        {
          "output_type": "stream",
          "name": "stdout",
          "text": [
            "Looking in indexes: https://pypi.org/simple, https://us-python.pkg.dev/colab-wheels/public/simple/\n",
            "Requirement already satisfied: pyiwn in /usr/local/lib/python3.7/dist-packages (0.0.5)\n",
            "Requirement already satisfied: pandas in /usr/local/lib/python3.7/dist-packages (from pyiwn) (1.3.5)\n",
            "Requirement already satisfied: requests in /usr/local/lib/python3.7/dist-packages (from pyiwn) (2.23.0)\n",
            "Requirement already satisfied: python-dateutil>=2.7.3 in /usr/local/lib/python3.7/dist-packages (from pandas->pyiwn) (2.8.2)\n",
            "Requirement already satisfied: numpy>=1.17.3 in /usr/local/lib/python3.7/dist-packages (from pandas->pyiwn) (1.21.6)\n",
            "Requirement already satisfied: pytz>=2017.3 in /usr/local/lib/python3.7/dist-packages (from pandas->pyiwn) (2022.4)\n",
            "Requirement already satisfied: six>=1.5 in /usr/local/lib/python3.7/dist-packages (from python-dateutil>=2.7.3->pandas->pyiwn) (1.15.0)\n",
            "Requirement already satisfied: urllib3!=1.25.0,!=1.25.1,<1.26,>=1.21.1 in /usr/local/lib/python3.7/dist-packages (from requests->pyiwn) (1.24.3)\n",
            "Requirement already satisfied: certifi>=2017.4.17 in /usr/local/lib/python3.7/dist-packages (from requests->pyiwn) (2022.9.24)\n",
            "Requirement already satisfied: chardet<4,>=3.0.2 in /usr/local/lib/python3.7/dist-packages (from requests->pyiwn) (3.0.4)\n",
            "Requirement already satisfied: idna<3,>=2.5 in /usr/local/lib/python3.7/dist-packages (from requests->pyiwn) (2.10)\n"
          ]
        }
      ]
    },
    {
      "cell_type": "markdown",
      "source": [
        "#PREPROCESSING"
      ],
      "metadata": {
        "id": "srv_fIstwCtH"
      }
    },
    {
      "cell_type": "code",
      "source": [
        "class Tokenizer():\n",
        "  def __init__(self,text=None):\n",
        "    if text is  not None:\n",
        "      self.text=text\n",
        "      self.cleanText()\n",
        "    else:\n",
        "      self.text=None\n",
        "\n",
        "    self.sentences=[]\n",
        "    self.tokens=[]\n",
        "    self.stemmed_word=[]\n",
        "    self.final_list=[]\n",
        "\n",
        "  def gen_sentences(self):\n",
        "    text=self.text\n",
        "    self.sentences=text.split(\"। \")\n",
        "    #print(self.sentences)\n",
        "\n",
        "  def printTokens(self):\n",
        "    for i in self.tokens:\n",
        "      print(i)\n",
        "\n",
        "  def spaceTok(self,sentences_list):\n",
        "    tokens=[]\n",
        "    for each in sentences_list:\n",
        "        word_list=each.split(' ')\n",
        "        word_list[-1] = word_list[-1].replace(\"।\",'')\n",
        "        tokens=tokens+word_list\n",
        "\n",
        "    return tokens\n",
        "\n",
        "  def cleanText(self):\n",
        "    text=self.text\n",
        "    text=text.strip()\n",
        "    text=re.sub(r'(\\d+)',r'',text)\n",
        "    text=text.replace(',','')\n",
        "    text=text.replace('\"','')\n",
        "    text=text.replace('(','')\n",
        "    text=text.replace(')','')\n",
        "    text=text.replace('\"','')\n",
        "    text=text.replace(':','')\n",
        "    text=text.replace(\"'\",'')\n",
        "    text=text.replace(\"‘‘\",'')\n",
        "    text=text.replace(\"’’\",'')\n",
        "    text=text.replace(\"''\",'')\n",
        "    text=text.replace(\".\",'')\n",
        "    text=text.replace(\"-\",' ')\n",
        "    text=text.replace(\"  \",' ')\n",
        "    self.text=text\n",
        "\n",
        "  def removeStopWords(self,token_list):\n",
        "    f=codecs.open(\"stopwords.txt\",encoding='utf-8')\n",
        "    stopwords=[x.strip() for x in f.readlines()]\n",
        "    #print(stopwords)\n",
        "    #print(token_list)\n",
        "    tokens=[i for i in token_list if i not in stopwords]\n",
        "    self.final_tokens=tokens\n",
        "    return tokens\n",
        "\n",
        "  def stemWords(self,word):\n",
        "    suffixes = {\n",
        "    1: [\"ो\",\"े\",\"ू\",\"ु\",\"ी\",\"ि\",\"ा\"],\n",
        "    2: [\"कर\",\"ाओ\",\"िए\",\"ाई\",\"ाए\",\"ने\",\"नी\",\"ना\",\"ते\",\"ीं\",\"ती\",\"ता\",\"ाँ\",\"ां\",\"ों\",\"ें\"],\n",
        "    3: [\"ाकर\",\"ाइए\",\"ाईं\",\"ाया\",\"ेगी\",\"ेगा\",\"ोगी\",\"ोगे\",\"ाने\",\"ाना\",\"ाते\",\"ाती\",\"ाता\",\"तीं\",\"ाओं\",\"ाएं\",\"ुओं\",\"ुएं\",\"ुआं\"],\n",
        "    4: [\"ाएगी\",\"ाएगा\",\"ाओगी\",\"ाओगे\",\"एंगी\",\"ेंगी\",\"एंगे\",\"ेंगे\",\"ूंगी\",\"ूंगा\",\"ातीं\",\"नाओं\",\"नाएं\",\"ताओं\",\"ताएं\",\"ियाँ\",\"ियों\",\"ियां\"],\n",
        "    5: [\"ाएंगी\",\"ाएंगे\",\"ाऊंगी\",\"ाऊंगा\",\"ाइयाँ\",\"ाइयों\",\"ाइयां\"],\n",
        "    }\n",
        "    for L in 5, 4, 3, 2, 1:\n",
        "      if len(word) > L + 1:\n",
        "        for suf in suffixes[L]:\n",
        "          #print type(suf),type(word),word,suf\n",
        "          if word.endswith(suf):\n",
        "            #print 'h'\n",
        "            return word[:-L]\n",
        "    return word\n",
        "\n",
        "  def scriptValidation(self,token_list):\n",
        "    tokens = []\n",
        "    for tok in token_list:\n",
        "      #print(i)\n",
        "      for ch in tok:\n",
        "        #print(x)\n",
        "        if ord(ch) not in list(range(2304,2432)):\n",
        "          tok = tok.replace(ch,'')\n",
        "      if tok!=\"\":\n",
        "        tokens.append(tok)\n",
        "\n",
        "    return tokens\n",
        "\n",
        "  def tokenize(self):\n",
        "    if not self.sentences:\n",
        "      self.gen_sentences()\n",
        "      sentences_list=self.sentences\n",
        "      #print(sentences_list)\n",
        "      token_list = self.spaceTok(sentences_list)\n",
        "      #print(token_list)\n",
        "      token_list = self.scriptValidation(token_list)\n",
        "      #print(token_list)\n",
        "      token_list = self.removeStopWords(token_list)\n",
        "      #print(token_list)\n",
        "      tokens = []\n",
        "      for tok in token_list:\n",
        "        tokens.append(self.stemWords(tok))\n",
        "      self.tokens=tokens\n",
        "      return tokens"
      ],
      "metadata": {
        "id": "2Dd9vMnfBc3X"
      },
      "execution_count": 81,
      "outputs": []
    },
    {
      "cell_type": "markdown",
      "source": [
        "#READ DATASET"
      ],
      "metadata": {
        "id": "OnqtadQGDlWh"
      }
    },
    {
      "cell_type": "code",
      "source": [
        "df = pd.read_csv(\"Train.csv\")"
      ],
      "metadata": {
        "id": "PIcbjndN_9Ok"
      },
      "execution_count": 500,
      "outputs": []
    },
    {
      "cell_type": "code",
      "source": [
        "df.head(10)"
      ],
      "metadata": {
        "id": "OKR8SrO9AHM9",
        "colab": {
          "base_uri": "https://localhost:8080/",
          "height": 363
        },
        "outputId": "65a98833-b620-437a-ef7f-47d2b18de497"
      },
      "execution_count": 501,
      "outputs": [
        {
          "output_type": "execute_result",
          "data": {
            "text/plain": [
              "   id                                          SENTENCE1  \\\n",
              "0   1  ब्रैड क्रेलिन ने ऑस्ट्रेलिया के दौरे पर 6 अन्य...   \n",
              "1   2  वे हमें आनंद देने के लिए वहाँ थे और वे हमारे ल...   \n",
              "2   3  जून 1902 में युद्ध की समाप्ति के बाद, हिगिंस न...   \n",
              "3   4  फोर रिवर्स काउंसिल और ऑडबोन काउंसिल के विलय से...   \n",
              "4   5  समूह ने बड़े पैमाने पर दौरा किया और इज़राइल मे...   \n",
              "5   6  कैथी और उनके पति पीट बीले (पीटर डीन) आर्थिक रू...   \n",
              "6   7  तिमोरा डायहरोडा नोक्टुइडे परिवार की पतंग की एक...   \n",
              "7   8  इनमें से अधिकांश होटल ओक स्ट्रीट से पाइन स्ट्र...   \n",
              "8   9  जो आर। कैम्पा जूनियर, संयुक्त राज्य अमेरिका की...   \n",
              "9  10  अपवाद 2005 के अंत और 2009 के बीच था जब उन्होंन...   \n",
              "\n",
              "                                           SENTENCE2  label  \n",
              "0  ब्रैड क्रेलिन ने ऑस्ट्रेलिया के दौरे पर ऑस्ट्र...      0  \n",
              "1  वे हमारे लिए आनंद लेने के लिए वहाँ थे और वे प्...      1  \n",
              "2  अगस्त 1902 में युद्ध की समाप्ति के बाद अगस्त म...      1  \n",
              "3  शॉनी ट्रेल्स काउंसिल का गठन फोर रिवर्स काउंसिल...      1  \n",
              "4  समूह ने बड़े पैमाने पर दौरा किया और इज़राइल मे...      1  \n",
              "5  कैथी और उनके पति पीटर डीन (पीट बीले) आर्थिक रू...      1  \n",
              "6  दिहरोदा नोक्टुइडे परिवार का एक प्रकार का कीट ह...      1  \n",
              "7  इनमें से अधिकांश घर ओक स्ट्रीट से पाइन स्ट्रीट...      0  \n",
              "8  जो आर। कैम्पा जूनियर एक पूर्व अमेरिकी नेवी मैट...      1  \n",
              "9  2005 के अंत और 2009 के बीच अपवाद था, जब वह स्व...      1  "
            ],
            "text/html": [
              "\n",
              "  <div id=\"df-8f02b228-0669-4829-8555-3d6210941d33\">\n",
              "    <div class=\"colab-df-container\">\n",
              "      <div>\n",
              "<style scoped>\n",
              "    .dataframe tbody tr th:only-of-type {\n",
              "        vertical-align: middle;\n",
              "    }\n",
              "\n",
              "    .dataframe tbody tr th {\n",
              "        vertical-align: top;\n",
              "    }\n",
              "\n",
              "    .dataframe thead th {\n",
              "        text-align: right;\n",
              "    }\n",
              "</style>\n",
              "<table border=\"1\" class=\"dataframe\">\n",
              "  <thead>\n",
              "    <tr style=\"text-align: right;\">\n",
              "      <th></th>\n",
              "      <th>id</th>\n",
              "      <th>SENTENCE1</th>\n",
              "      <th>SENTENCE2</th>\n",
              "      <th>label</th>\n",
              "    </tr>\n",
              "  </thead>\n",
              "  <tbody>\n",
              "    <tr>\n",
              "      <th>0</th>\n",
              "      <td>1</td>\n",
              "      <td>ब्रैड क्रेलिन ने ऑस्ट्रेलिया के दौरे पर 6 अन्य...</td>\n",
              "      <td>ब्रैड क्रेलिन ने ऑस्ट्रेलिया के दौरे पर ऑस्ट्र...</td>\n",
              "      <td>0</td>\n",
              "    </tr>\n",
              "    <tr>\n",
              "      <th>1</th>\n",
              "      <td>2</td>\n",
              "      <td>वे हमें आनंद देने के लिए वहाँ थे और वे हमारे ल...</td>\n",
              "      <td>वे हमारे लिए आनंद लेने के लिए वहाँ थे और वे प्...</td>\n",
              "      <td>1</td>\n",
              "    </tr>\n",
              "    <tr>\n",
              "      <th>2</th>\n",
              "      <td>3</td>\n",
              "      <td>जून 1902 में युद्ध की समाप्ति के बाद, हिगिंस न...</td>\n",
              "      <td>अगस्त 1902 में युद्ध की समाप्ति के बाद अगस्त म...</td>\n",
              "      <td>1</td>\n",
              "    </tr>\n",
              "    <tr>\n",
              "      <th>3</th>\n",
              "      <td>4</td>\n",
              "      <td>फोर रिवर्स काउंसिल और ऑडबोन काउंसिल के विलय से...</td>\n",
              "      <td>शॉनी ट्रेल्स काउंसिल का गठन फोर रिवर्स काउंसिल...</td>\n",
              "      <td>1</td>\n",
              "    </tr>\n",
              "    <tr>\n",
              "      <th>4</th>\n",
              "      <td>5</td>\n",
              "      <td>समूह ने बड़े पैमाने पर दौरा किया और इज़राइल मे...</td>\n",
              "      <td>समूह ने बड़े पैमाने पर दौरा किया और इज़राइल मे...</td>\n",
              "      <td>1</td>\n",
              "    </tr>\n",
              "    <tr>\n",
              "      <th>5</th>\n",
              "      <td>6</td>\n",
              "      <td>कैथी और उनके पति पीट बीले (पीटर डीन) आर्थिक रू...</td>\n",
              "      <td>कैथी और उनके पति पीटर डीन (पीट बीले) आर्थिक रू...</td>\n",
              "      <td>1</td>\n",
              "    </tr>\n",
              "    <tr>\n",
              "      <th>6</th>\n",
              "      <td>7</td>\n",
              "      <td>तिमोरा डायहरोडा नोक्टुइडे परिवार की पतंग की एक...</td>\n",
              "      <td>दिहरोदा नोक्टुइडे परिवार का एक प्रकार का कीट ह...</td>\n",
              "      <td>1</td>\n",
              "    </tr>\n",
              "    <tr>\n",
              "      <th>7</th>\n",
              "      <td>8</td>\n",
              "      <td>इनमें से अधिकांश होटल ओक स्ट्रीट से पाइन स्ट्र...</td>\n",
              "      <td>इनमें से अधिकांश घर ओक स्ट्रीट से पाइन स्ट्रीट...</td>\n",
              "      <td>0</td>\n",
              "    </tr>\n",
              "    <tr>\n",
              "      <th>8</th>\n",
              "      <td>9</td>\n",
              "      <td>जो आर। कैम्पा जूनियर, संयुक्त राज्य अमेरिका की...</td>\n",
              "      <td>जो आर। कैम्पा जूनियर एक पूर्व अमेरिकी नेवी मैट...</td>\n",
              "      <td>1</td>\n",
              "    </tr>\n",
              "    <tr>\n",
              "      <th>9</th>\n",
              "      <td>10</td>\n",
              "      <td>अपवाद 2005 के अंत और 2009 के बीच था जब उन्होंन...</td>\n",
              "      <td>2005 के अंत और 2009 के बीच अपवाद था, जब वह स्व...</td>\n",
              "      <td>1</td>\n",
              "    </tr>\n",
              "  </tbody>\n",
              "</table>\n",
              "</div>\n",
              "      <button class=\"colab-df-convert\" onclick=\"convertToInteractive('df-8f02b228-0669-4829-8555-3d6210941d33')\"\n",
              "              title=\"Convert this dataframe to an interactive table.\"\n",
              "              style=\"display:none;\">\n",
              "        \n",
              "  <svg xmlns=\"http://www.w3.org/2000/svg\" height=\"24px\"viewBox=\"0 0 24 24\"\n",
              "       width=\"24px\">\n",
              "    <path d=\"M0 0h24v24H0V0z\" fill=\"none\"/>\n",
              "    <path d=\"M18.56 5.44l.94 2.06.94-2.06 2.06-.94-2.06-.94-.94-2.06-.94 2.06-2.06.94zm-11 1L8.5 8.5l.94-2.06 2.06-.94-2.06-.94L8.5 2.5l-.94 2.06-2.06.94zm10 10l.94 2.06.94-2.06 2.06-.94-2.06-.94-.94-2.06-.94 2.06-2.06.94z\"/><path d=\"M17.41 7.96l-1.37-1.37c-.4-.4-.92-.59-1.43-.59-.52 0-1.04.2-1.43.59L10.3 9.45l-7.72 7.72c-.78.78-.78 2.05 0 2.83L4 21.41c.39.39.9.59 1.41.59.51 0 1.02-.2 1.41-.59l7.78-7.78 2.81-2.81c.8-.78.8-2.07 0-2.86zM5.41 20L4 18.59l7.72-7.72 1.47 1.35L5.41 20z\"/>\n",
              "  </svg>\n",
              "      </button>\n",
              "      \n",
              "  <style>\n",
              "    .colab-df-container {\n",
              "      display:flex;\n",
              "      flex-wrap:wrap;\n",
              "      gap: 12px;\n",
              "    }\n",
              "\n",
              "    .colab-df-convert {\n",
              "      background-color: #E8F0FE;\n",
              "      border: none;\n",
              "      border-radius: 50%;\n",
              "      cursor: pointer;\n",
              "      display: none;\n",
              "      fill: #1967D2;\n",
              "      height: 32px;\n",
              "      padding: 0 0 0 0;\n",
              "      width: 32px;\n",
              "    }\n",
              "\n",
              "    .colab-df-convert:hover {\n",
              "      background-color: #E2EBFA;\n",
              "      box-shadow: 0px 1px 2px rgba(60, 64, 67, 0.3), 0px 1px 3px 1px rgba(60, 64, 67, 0.15);\n",
              "      fill: #174EA6;\n",
              "    }\n",
              "\n",
              "    [theme=dark] .colab-df-convert {\n",
              "      background-color: #3B4455;\n",
              "      fill: #D2E3FC;\n",
              "    }\n",
              "\n",
              "    [theme=dark] .colab-df-convert:hover {\n",
              "      background-color: #434B5C;\n",
              "      box-shadow: 0px 1px 3px 1px rgba(0, 0, 0, 0.15);\n",
              "      filter: drop-shadow(0px 1px 2px rgba(0, 0, 0, 0.3));\n",
              "      fill: #FFFFFF;\n",
              "    }\n",
              "  </style>\n",
              "\n",
              "      <script>\n",
              "        const buttonEl =\n",
              "          document.querySelector('#df-8f02b228-0669-4829-8555-3d6210941d33 button.colab-df-convert');\n",
              "        buttonEl.style.display =\n",
              "          google.colab.kernel.accessAllowed ? 'block' : 'none';\n",
              "\n",
              "        async function convertToInteractive(key) {\n",
              "          const element = document.querySelector('#df-8f02b228-0669-4829-8555-3d6210941d33');\n",
              "          const dataTable =\n",
              "            await google.colab.kernel.invokeFunction('convertToInteractive',\n",
              "                                                     [key], {});\n",
              "          if (!dataTable) return;\n",
              "\n",
              "          const docLinkHtml = 'Like what you see? Visit the ' +\n",
              "            '<a target=\"_blank\" href=https://colab.research.google.com/notebooks/data_table.ipynb>data table notebook</a>'\n",
              "            + ' to learn more about interactive tables.';\n",
              "          element.innerHTML = '';\n",
              "          dataTable['output_type'] = 'display_data';\n",
              "          await google.colab.output.renderOutput(dataTable, element);\n",
              "          const docLink = document.createElement('div');\n",
              "          docLink.innerHTML = docLinkHtml;\n",
              "          element.appendChild(docLink);\n",
              "        }\n",
              "      </script>\n",
              "    </div>\n",
              "  </div>\n",
              "  "
            ]
          },
          "metadata": {},
          "execution_count": 501
        }
      ]
    },
    {
      "cell_type": "code",
      "source": [
        "df.shape"
      ],
      "metadata": {
        "colab": {
          "base_uri": "https://localhost:8080/"
        },
        "id": "EeokYqWFAIg1",
        "outputId": "c24bf827-c70a-4d2c-9286-05e4db88625f"
      },
      "execution_count": 502,
      "outputs": [
        {
          "output_type": "execute_result",
          "data": {
            "text/plain": [
              "(15625, 4)"
            ]
          },
          "metadata": {},
          "execution_count": 502
        }
      ]
    },
    {
      "cell_type": "code",
      "source": [
        "df.set_index(\"id\", inplace = True)"
      ],
      "metadata": {
        "id": "fB0lDVauWoRh"
      },
      "execution_count": 503,
      "outputs": []
    },
    {
      "cell_type": "code",
      "source": [
        "df.shape"
      ],
      "metadata": {
        "colab": {
          "base_uri": "https://localhost:8080/"
        },
        "id": "_5cPovA-XjiH",
        "outputId": "ed346d15-0c75-4e8a-fdd5-e34cd6af5b52"
      },
      "execution_count": 504,
      "outputs": [
        {
          "output_type": "execute_result",
          "data": {
            "text/plain": [
              "(15625, 3)"
            ]
          },
          "metadata": {},
          "execution_count": 504
        }
      ]
    },
    {
      "cell_type": "code",
      "source": [
        "df = df.sample(frac=0.4)"
      ],
      "metadata": {
        "id": "ebbNiRpxZFh0"
      },
      "execution_count": 505,
      "outputs": []
    },
    {
      "cell_type": "code",
      "source": [
        "df = df.reset_index(drop=True)"
      ],
      "metadata": {
        "id": "RYFW4k3yZeBp"
      },
      "execution_count": 506,
      "outputs": []
    },
    {
      "cell_type": "code",
      "source": [
        "df.shape"
      ],
      "metadata": {
        "colab": {
          "base_uri": "https://localhost:8080/"
        },
        "id": "J3YAQBymDUB4",
        "outputId": "a5500e1f-c1a4-48b0-da75-a0adbb3a18da"
      },
      "execution_count": 507,
      "outputs": [
        {
          "output_type": "execute_result",
          "data": {
            "text/plain": [
              "(6250, 3)"
            ]
          },
          "metadata": {},
          "execution_count": 507
        }
      ]
    },
    {
      "cell_type": "code",
      "source": [
        "label = df['label']"
      ],
      "metadata": {
        "id": "44JmTsAlAQZo"
      },
      "execution_count": 508,
      "outputs": []
    },
    {
      "cell_type": "code",
      "source": [
        "print(df.iloc[0])"
      ],
      "metadata": {
        "colab": {
          "base_uri": "https://localhost:8080/"
        },
        "id": "0oib9iTYW3-1",
        "outputId": "0d7812a1-6fa7-4439-bb35-223a5c6d9ebc"
      },
      "execution_count": 509,
      "outputs": [
        {
          "output_type": "stream",
          "name": "stdout",
          "text": [
            "SENTENCE1    Farrer का जन्म लंदन में हुआ था, जो कलाकार Thom...\n",
            "SENTENCE2    थॉमस चार्ल्स फ़ेरर का जन्म लंदन में हुआ था, जो...\n",
            "label                                                        0\n",
            "Name: 0, dtype: object\n"
          ]
        }
      ]
    },
    {
      "cell_type": "markdown",
      "source": [
        "#COSINE SIMILARITY"
      ],
      "metadata": {
        "id": "9DR43N-Ms_6N"
      }
    },
    {
      "cell_type": "code",
      "source": [
        "def cosine_similarity(token_list1,token_list2):\n",
        "  l1 =[]\n",
        "  l2 =[]\n",
        "  token_list1 = set(token_list1)\n",
        "  token_list2 = set(token_list2)\n",
        "  # form a set containing keywords of both strings \n",
        "  rvector = token_list1.union(token_list2)\n",
        "  \n",
        "  #print(rv)\n",
        "  for w in rvector:\n",
        "      if w in token_list1: l1.append(1) # create a vector\n",
        "      else: l1.append(0)\n",
        "      \n",
        "      if w in token_list2: l2.append(1)\n",
        "      else: l2.append(0)\n",
        "\n",
        "  #print(l1,l2)\n",
        "  c = 0\n",
        "    \n",
        "  # cosine formula \n",
        "  for i in range(len(rvector)):\n",
        "          c+= l1[i]*l2[i] \n",
        "\n",
        "  #print(c)\n",
        "\n",
        "  try:\n",
        "    cosine = round(c / float((sum(l1)**0.5)*(sum(l2)**0.5)),2)    \n",
        "  except:\n",
        "    return 0\n",
        "  else:\n",
        "    if cosine >= 0 and cosine <= 0.33:\n",
        "      return 0\n",
        "    elif cosine >= 0.34 and cosine <= 0.67:\n",
        "      return 1\n",
        "    elif cosine >= 0.68:\n",
        "      return 2\n",
        "    #print(\"similarity: \", cosine)"
      ],
      "metadata": {
        "id": "oj384f8NSDy3"
      },
      "execution_count": 510,
      "outputs": []
    },
    {
      "cell_type": "markdown",
      "source": [
        "#Jaccard similarity"
      ],
      "metadata": {
        "id": "w9P2v4-8tDTA"
      }
    },
    {
      "cell_type": "code",
      "source": [
        "def jaccard_similarity(x,y):\n",
        "  x = set(x)\n",
        "  y = set(y)\n",
        "  \"\"\" returns the jaccard similarity between two lists \"\"\"\n",
        "  intersection_cardinality = len(x.intersection(y))\n",
        "  union_cardinality = len(x.union(y))\n",
        "\n",
        "  try:\n",
        "    jaccard = round(intersection_cardinality/union_cardinality,2)\n",
        "  except:\n",
        "    return 0\n",
        "  else:\n",
        "    if jaccard >= 0 and jaccard <= 0.33:\n",
        "      return 0\n",
        "    elif jaccard >= 0.34 and jaccard <= 0.67:\n",
        "      return 1\n",
        "    elif jaccard >= 0.68:\n",
        "      return 2"
      ],
      "metadata": {
        "id": "tEG7Zedps-MZ"
      },
      "execution_count": 511,
      "outputs": []
    },
    {
      "cell_type": "markdown",
      "source": [
        "#Synonym–level matching"
      ],
      "metadata": {
        "id": "2le1DaJs8_xu"
      }
    },
    {
      "cell_type": "code",
      "source": [
        "def syno_match(token_list1,token_list2):\n",
        "  count = 0\n",
        "  for each in token_list1:\n",
        "    #print(\"each: \",each)\n",
        "    if each in token_list2:\n",
        "      #print(\"count++: \",each)\n",
        "      count+=1\n",
        "    else:\n",
        "      try:\n",
        "        word = iwn.synsets(each)\n",
        "      except:\n",
        "        #print(\"error\")\n",
        "        pass\n",
        "      else:\n",
        "        syn_words = []\n",
        "        for i in range(0,len(word)):\n",
        "          syn_words.append(word[i].head_word())\n",
        "        #print(syn_words)\n",
        "        for w in syn_words:\n",
        "          if w in token_list2:\n",
        "            count+=1\n",
        "            #print(\"count++: \",each)\n",
        "  try:\n",
        "  #print(count)\n",
        "    sim = round(count/(max(len(token_list1),len(token_list2))),2)\n",
        "  except:\n",
        "    return 0\n",
        "  else:\n",
        "    if sim >= 0 and sim <= 0.33:\n",
        "      return 0\n",
        "    elif sim >= 0.34 and sim <= 0.67:\n",
        "      return 1\n",
        "    elif sim >= 0.68:\n",
        "      return 2\n",
        "    #print(sim)"
      ],
      "metadata": {
        "id": "Ff57Ectm9BfA"
      },
      "execution_count": 512,
      "outputs": []
    },
    {
      "cell_type": "markdown",
      "source": [
        "#BIGRAM\n"
      ],
      "metadata": {
        "id": "SIBjvjiUxT7o"
      }
    },
    {
      "cell_type": "code",
      "source": [
        "def bigram_similarity(token_list1,token_list2):\n",
        "  bigram_list1,bigram_list2 = [],[]\n",
        "  for i in range(0,len(token_list1)-1):\n",
        "    bigram_list1.append([token_list1[i],token_list1[i+1]])\n",
        "\n",
        "  for i in range(0,len(token_list2)-1):\n",
        "    bigram_list2.append([token_list2[i],token_list2[i+1]])\n",
        "\n",
        "  nt1 = map(tuple, bigram_list1)\n",
        "  nt2 = map(tuple, bigram_list2)\n",
        "\n",
        "  st1 = set(nt1)\n",
        "  st2 = set(nt2)\n",
        "\n",
        "  rvector = st1.intersection(st2)\n",
        "  #print(rvector)\n",
        "  try:\n",
        "    bigram = round(len(rvector)/(len(bigram_list1)+len(bigram_list2)),2)\n",
        "  except:\n",
        "    return 0\n",
        "  else:\n",
        "    if bigram >= 0 and bigram <= 0.33:\n",
        "      return 0\n",
        "    elif bigram >= 0.34 and bigram <= 0.67:\n",
        "      return 1\n",
        "    elif bigram >= 0.68:\n",
        "      return 2"
      ],
      "metadata": {
        "id": "M4lbpgRJxTPC"
      },
      "execution_count": 513,
      "outputs": []
    },
    {
      "cell_type": "markdown",
      "source": [
        "#FEATURE EXTRACTION"
      ],
      "metadata": {
        "id": "zUVREV2xv1Lp"
      }
    },
    {
      "cell_type": "code",
      "source": [
        "def features_extraction(df):\n",
        "  corpus = []\n",
        "  cosine_data,jaccard_data,bigram_data,syno_data = [],[],[],[]\n",
        "  for i in range(0,len(df)):\n",
        "    #print(\"iter: \",i)\n",
        "    #print(df['SENTENCE2'][i])\n",
        "    t1 = Tokenizer(df['SENTENCE1'][i])\n",
        "    t2 = Tokenizer(df['SENTENCE2'][i])\n",
        "\n",
        "    token_list1 = t1.tokenize()\n",
        "    token_list2 = t2.tokenize()\n",
        "    try:\n",
        "      token_list1 = token_list1.remove(\" \")\n",
        "      token_list2 = token_list2.remove(\" \")\n",
        "    except:\n",
        "      pass\n",
        "\n",
        "    #print(token_list1)\n",
        "    cosine_data.append(cosine_similarity(token_list1,token_list2))\n",
        "    jaccard_data.append(jaccard_similarity(token_list1,token_list2))\n",
        "    bigram_data.append(bigram_similarity(token_list1,token_list2))\n",
        "    syno_data.append(syno_match(token_list1,token_list2))\n",
        "\n",
        "\n",
        "    token_list1 = ' '.join(' '.join(token_list1).split())\n",
        "    token_list2 = ' '.join(' '.join(token_list2).split())\n",
        "\n",
        "    corpus.append([token_list1,token_list2])\n",
        "\n",
        "  #print(corpus)\n",
        "  features = pd.DataFrame({\"cosine_similarity\":cosine_data,\n",
        "                          \"jaccard_similarity\":jaccard_data,\n",
        "                          \"bigram_matching\":bigram_data,\n",
        "                          \"syno_match\":syno_data})\n",
        "  \n",
        "  print(features.head())\n",
        "  print(len(features))\n",
        "  #print(max(syno_data),min(syno_data))\n",
        "\n",
        "  return features"
      ],
      "metadata": {
        "id": "hOtWFaZSDE7c"
      },
      "execution_count": 514,
      "outputs": []
    },
    {
      "cell_type": "code",
      "source": [
        "feat = features_extraction(df)"
      ],
      "metadata": {
        "colab": {
          "base_uri": "https://localhost:8080/"
        },
        "id": "S67dt-fQA4dt",
        "outputId": "b35a97d1-574b-4e54-c97e-1ec9102aef29"
      },
      "execution_count": 515,
      "outputs": [
        {
          "output_type": "stream",
          "name": "stdout",
          "text": [
            "   cosine_similarity  jaccard_similarity  bigram_matching  syno_match\n",
            "0                  2                   1                0           1\n",
            "1                  1                   1                0           2\n",
            "2                  2                   2                0           2\n",
            "3                  2                   2                0           2\n",
            "4                  2                   2                0           2\n",
            "6250\n"
          ]
        }
      ]
    },
    {
      "cell_type": "markdown",
      "source": [
        "#SPLITTING THE DATASET"
      ],
      "metadata": {
        "id": "_sqbhtFrvoAi"
      }
    },
    {
      "cell_type": "code",
      "source": [
        "X_train, X_valid, y_train, y_valid = train_test_split(feat,label, test_size = 0.3, random_state = 100)"
      ],
      "metadata": {
        "id": "nBAeuY4Sfqim"
      },
      "execution_count": 516,
      "outputs": []
    },
    {
      "cell_type": "markdown",
      "source": [
        "#SVM MODEL"
      ],
      "metadata": {
        "id": "g5-6pWATvv5d"
      }
    },
    {
      "cell_type": "code",
      "source": [
        "svc_model = SVC(C=0.1, gamma=1, kernel='poly') "
      ],
      "metadata": {
        "id": "ujWhyQx_H-GC"
      },
      "execution_count": 517,
      "outputs": []
    },
    {
      "cell_type": "code",
      "source": [
        "svc_model.fit(X_train, y_train) \n",
        "prediction = svc_model.predict(X_valid)"
      ],
      "metadata": {
        "id": "ScW4sRMfgHA-"
      },
      "execution_count": 518,
      "outputs": []
    },
    {
      "cell_type": "code",
      "source": [
        "cm= confusion_matrix(y_valid, prediction)  \n",
        "cm"
      ],
      "metadata": {
        "colab": {
          "base_uri": "https://localhost:8080/"
        },
        "id": "YhE_4tvCt4XE",
        "outputId": "309f1874-71d1-4f0b-9245-15dfaafbf889"
      },
      "execution_count": 519,
      "outputs": [
        {
          "output_type": "execute_result",
          "data": {
            "text/plain": [
              "array([[940, 120],\n",
              "       [472, 343]])"
            ]
          },
          "metadata": {},
          "execution_count": 519
        }
      ]
    },
    {
      "cell_type": "code",
      "source": [
        "print(accuracy_score(y_valid,prediction))"
      ],
      "metadata": {
        "colab": {
          "base_uri": "https://localhost:8080/"
        },
        "id": "CHUOecvbnGQp",
        "outputId": "e554d8fb-46d2-4954-eae7-e4fa8b7c01b0"
      },
      "execution_count": 520,
      "outputs": [
        {
          "output_type": "stream",
          "name": "stdout",
          "text": [
            "0.6842666666666667\n"
          ]
        }
      ]
    },
    {
      "cell_type": "code",
      "source": [
        "print(classification_report(y_valid, prediction))"
      ],
      "metadata": {
        "colab": {
          "base_uri": "https://localhost:8080/"
        },
        "id": "gB3khoAhGctb",
        "outputId": "3e09e2bc-09e8-45aa-b110-22081000443d"
      },
      "execution_count": 521,
      "outputs": [
        {
          "output_type": "stream",
          "name": "stdout",
          "text": [
            "              precision    recall  f1-score   support\n",
            "\n",
            "           0       0.67      0.89      0.76      1060\n",
            "           1       0.74      0.42      0.54       815\n",
            "\n",
            "    accuracy                           0.68      1875\n",
            "   macro avg       0.70      0.65      0.65      1875\n",
            "weighted avg       0.70      0.68      0.66      1875\n",
            "\n"
          ]
        }
      ]
    },
    {
      "cell_type": "code",
      "source": [
        "pickle.dump(svc_model, open('svc_model.pkl', 'wb'))"
      ],
      "metadata": {
        "id": "0Ieu9OLXeSeF"
      },
      "execution_count": 546,
      "outputs": []
    },
    {
      "cell_type": "markdown",
      "source": [
        "#RANDOM FOREST"
      ],
      "metadata": {
        "id": "E7SqiNq5D9wL"
      }
    },
    {
      "cell_type": "code",
      "source": [
        "rfc_model = rfc(criterion='gini',max_depth=6,max_features='auto',n_estimators=500)"
      ],
      "metadata": {
        "id": "m5NM_dhkJb1J"
      },
      "execution_count": 522,
      "outputs": []
    },
    {
      "cell_type": "code",
      "source": [
        "rfc_model.fit(X_train, y_train)"
      ],
      "metadata": {
        "colab": {
          "base_uri": "https://localhost:8080/"
        },
        "id": "TQ2O3g1nnPDV",
        "outputId": "1d3e30f9-1479-4931-fd3f-03bda39002fa"
      },
      "execution_count": 523,
      "outputs": [
        {
          "output_type": "execute_result",
          "data": {
            "text/plain": [
              "RandomForestClassifier(max_depth=6, n_estimators=500)"
            ]
          },
          "metadata": {},
          "execution_count": 523
        }
      ]
    },
    {
      "cell_type": "code",
      "source": [
        "y_pred= rfc_model.predict(X_valid)  "
      ],
      "metadata": {
        "id": "hdzuyaPst1di"
      },
      "execution_count": 524,
      "outputs": []
    },
    {
      "cell_type": "code",
      "source": [
        "cm= confusion_matrix(y_valid, y_pred)  \n",
        "cm"
      ],
      "metadata": {
        "colab": {
          "base_uri": "https://localhost:8080/"
        },
        "id": "-owjzJSJ_LO7",
        "outputId": "a2715f0b-2cff-4528-abde-15a8f0bd119e"
      },
      "execution_count": 525,
      "outputs": [
        {
          "output_type": "execute_result",
          "data": {
            "text/plain": [
              "array([[939, 121],\n",
              "       [471, 344]])"
            ]
          },
          "metadata": {},
          "execution_count": 525
        }
      ]
    },
    {
      "cell_type": "code",
      "source": [
        "print(accuracy_score(y_valid,y_pred))"
      ],
      "metadata": {
        "colab": {
          "base_uri": "https://localhost:8080/"
        },
        "id": "cZIqyguZuEOf",
        "outputId": "031bde6d-397e-4bec-cef8-e8bca3a0a455"
      },
      "execution_count": 526,
      "outputs": [
        {
          "output_type": "stream",
          "name": "stdout",
          "text": [
            "0.6842666666666667\n"
          ]
        }
      ]
    },
    {
      "cell_type": "code",
      "source": [
        "print(classification_report(y_valid, y_pred))"
      ],
      "metadata": {
        "colab": {
          "base_uri": "https://localhost:8080/"
        },
        "id": "BEQ4XaeQGibP",
        "outputId": "17d76ac6-997b-4fd3-925e-13c3db1e8f7d"
      },
      "execution_count": 527,
      "outputs": [
        {
          "output_type": "stream",
          "name": "stdout",
          "text": [
            "              precision    recall  f1-score   support\n",
            "\n",
            "           0       0.67      0.89      0.76      1060\n",
            "           1       0.74      0.42      0.54       815\n",
            "\n",
            "    accuracy                           0.68      1875\n",
            "   macro avg       0.70      0.65      0.65      1875\n",
            "weighted avg       0.70      0.68      0.66      1875\n",
            "\n"
          ]
        }
      ]
    },
    {
      "cell_type": "code",
      "source": [
        "pickle.dump(rfc_model, open('rfc_model.pkl', 'wb'))"
      ],
      "metadata": {
        "id": "CB5NNN_NfJpF"
      },
      "execution_count": 548,
      "outputs": []
    },
    {
      "cell_type": "markdown",
      "source": [
        "#TEST DATA"
      ],
      "metadata": {
        "id": "VZVbHtreEE_G"
      }
    },
    {
      "cell_type": "code",
      "source": [
        "test_df = pd.read_csv(\"Test.csv\")"
      ],
      "metadata": {
        "id": "6ETMtiWCvxfw"
      },
      "execution_count": 531,
      "outputs": []
    },
    {
      "cell_type": "code",
      "source": [
        "test_df.head()"
      ],
      "metadata": {
        "colab": {
          "base_uri": "https://localhost:8080/",
          "height": 206
        },
        "id": "iAGognNCADLt",
        "outputId": "acddb657-c8c4-4a1c-b68b-bdeff795d5df"
      },
      "execution_count": 532,
      "outputs": [
        {
          "output_type": "execute_result",
          "data": {
            "text/plain": [
              "   id                                          SENTENCE1  \\\n",
              "0   1  24 फरवरी 1848 को फरवरी की क्रांति के बाद जब अन...   \n",
              "1   2  लॉस एंजिल्स में जिम अपने सबसे अच्छे दोस्त माइक...   \n",
              "2   3  टर्नरी समूह के सिद्धांत में, विस्तारित टर्नरी ...   \n",
              "3   4  लेखक अपनी वेबसाइट पर और अपने संस्थागत भंडार मे...   \n",
              "4   5  कॉलेज के प्रमुख स्टीव मार्शल हैं और सहायक प्रम...   \n",
              "\n",
              "                                           SENTENCE2  label  \n",
              "0  इसका गठन तब हुआ था जब 24 फरवरी, 1848 को फरवरी ...      0  \n",
              "1  माइक अलोंजो लॉस एंजिल्स में अपने सबसे अच्छे दो...      0  \n",
              "2  परिमित समूह सिद्धांत में, विस्तारित टर्नरी गोल...      0  \n",
              "3  लेखक अपनी वेबसाइट पर और अपने संस्थागत भंडार मे...      1  \n",
              "4  कॉलेज के प्रमुख डैनी हबबॉल हैं और सहायक स्टीव ...      0  "
            ],
            "text/html": [
              "\n",
              "  <div id=\"df-577cc925-ef44-4ec6-9a0b-84210d1da7b9\">\n",
              "    <div class=\"colab-df-container\">\n",
              "      <div>\n",
              "<style scoped>\n",
              "    .dataframe tbody tr th:only-of-type {\n",
              "        vertical-align: middle;\n",
              "    }\n",
              "\n",
              "    .dataframe tbody tr th {\n",
              "        vertical-align: top;\n",
              "    }\n",
              "\n",
              "    .dataframe thead th {\n",
              "        text-align: right;\n",
              "    }\n",
              "</style>\n",
              "<table border=\"1\" class=\"dataframe\">\n",
              "  <thead>\n",
              "    <tr style=\"text-align: right;\">\n",
              "      <th></th>\n",
              "      <th>id</th>\n",
              "      <th>SENTENCE1</th>\n",
              "      <th>SENTENCE2</th>\n",
              "      <th>label</th>\n",
              "    </tr>\n",
              "  </thead>\n",
              "  <tbody>\n",
              "    <tr>\n",
              "      <th>0</th>\n",
              "      <td>1</td>\n",
              "      <td>24 फरवरी 1848 को फरवरी की क्रांति के बाद जब अन...</td>\n",
              "      <td>इसका गठन तब हुआ था जब 24 फरवरी, 1848 को फरवरी ...</td>\n",
              "      <td>0</td>\n",
              "    </tr>\n",
              "    <tr>\n",
              "      <th>1</th>\n",
              "      <td>2</td>\n",
              "      <td>लॉस एंजिल्स में जिम अपने सबसे अच्छे दोस्त माइक...</td>\n",
              "      <td>माइक अलोंजो लॉस एंजिल्स में अपने सबसे अच्छे दो...</td>\n",
              "      <td>0</td>\n",
              "    </tr>\n",
              "    <tr>\n",
              "      <th>2</th>\n",
              "      <td>3</td>\n",
              "      <td>टर्नरी समूह के सिद्धांत में, विस्तारित टर्नरी ...</td>\n",
              "      <td>परिमित समूह सिद्धांत में, विस्तारित टर्नरी गोल...</td>\n",
              "      <td>0</td>\n",
              "    </tr>\n",
              "    <tr>\n",
              "      <th>3</th>\n",
              "      <td>4</td>\n",
              "      <td>लेखक अपनी वेबसाइट पर और अपने संस्थागत भंडार मे...</td>\n",
              "      <td>लेखक अपनी वेबसाइट पर और अपने संस्थागत भंडार मे...</td>\n",
              "      <td>1</td>\n",
              "    </tr>\n",
              "    <tr>\n",
              "      <th>4</th>\n",
              "      <td>5</td>\n",
              "      <td>कॉलेज के प्रमुख स्टीव मार्शल हैं और सहायक प्रम...</td>\n",
              "      <td>कॉलेज के प्रमुख डैनी हबबॉल हैं और सहायक स्टीव ...</td>\n",
              "      <td>0</td>\n",
              "    </tr>\n",
              "  </tbody>\n",
              "</table>\n",
              "</div>\n",
              "      <button class=\"colab-df-convert\" onclick=\"convertToInteractive('df-577cc925-ef44-4ec6-9a0b-84210d1da7b9')\"\n",
              "              title=\"Convert this dataframe to an interactive table.\"\n",
              "              style=\"display:none;\">\n",
              "        \n",
              "  <svg xmlns=\"http://www.w3.org/2000/svg\" height=\"24px\"viewBox=\"0 0 24 24\"\n",
              "       width=\"24px\">\n",
              "    <path d=\"M0 0h24v24H0V0z\" fill=\"none\"/>\n",
              "    <path d=\"M18.56 5.44l.94 2.06.94-2.06 2.06-.94-2.06-.94-.94-2.06-.94 2.06-2.06.94zm-11 1L8.5 8.5l.94-2.06 2.06-.94-2.06-.94L8.5 2.5l-.94 2.06-2.06.94zm10 10l.94 2.06.94-2.06 2.06-.94-2.06-.94-.94-2.06-.94 2.06-2.06.94z\"/><path d=\"M17.41 7.96l-1.37-1.37c-.4-.4-.92-.59-1.43-.59-.52 0-1.04.2-1.43.59L10.3 9.45l-7.72 7.72c-.78.78-.78 2.05 0 2.83L4 21.41c.39.39.9.59 1.41.59.51 0 1.02-.2 1.41-.59l7.78-7.78 2.81-2.81c.8-.78.8-2.07 0-2.86zM5.41 20L4 18.59l7.72-7.72 1.47 1.35L5.41 20z\"/>\n",
              "  </svg>\n",
              "      </button>\n",
              "      \n",
              "  <style>\n",
              "    .colab-df-container {\n",
              "      display:flex;\n",
              "      flex-wrap:wrap;\n",
              "      gap: 12px;\n",
              "    }\n",
              "\n",
              "    .colab-df-convert {\n",
              "      background-color: #E8F0FE;\n",
              "      border: none;\n",
              "      border-radius: 50%;\n",
              "      cursor: pointer;\n",
              "      display: none;\n",
              "      fill: #1967D2;\n",
              "      height: 32px;\n",
              "      padding: 0 0 0 0;\n",
              "      width: 32px;\n",
              "    }\n",
              "\n",
              "    .colab-df-convert:hover {\n",
              "      background-color: #E2EBFA;\n",
              "      box-shadow: 0px 1px 2px rgba(60, 64, 67, 0.3), 0px 1px 3px 1px rgba(60, 64, 67, 0.15);\n",
              "      fill: #174EA6;\n",
              "    }\n",
              "\n",
              "    [theme=dark] .colab-df-convert {\n",
              "      background-color: #3B4455;\n",
              "      fill: #D2E3FC;\n",
              "    }\n",
              "\n",
              "    [theme=dark] .colab-df-convert:hover {\n",
              "      background-color: #434B5C;\n",
              "      box-shadow: 0px 1px 3px 1px rgba(0, 0, 0, 0.15);\n",
              "      filter: drop-shadow(0px 1px 2px rgba(0, 0, 0, 0.3));\n",
              "      fill: #FFFFFF;\n",
              "    }\n",
              "  </style>\n",
              "\n",
              "      <script>\n",
              "        const buttonEl =\n",
              "          document.querySelector('#df-577cc925-ef44-4ec6-9a0b-84210d1da7b9 button.colab-df-convert');\n",
              "        buttonEl.style.display =\n",
              "          google.colab.kernel.accessAllowed ? 'block' : 'none';\n",
              "\n",
              "        async function convertToInteractive(key) {\n",
              "          const element = document.querySelector('#df-577cc925-ef44-4ec6-9a0b-84210d1da7b9');\n",
              "          const dataTable =\n",
              "            await google.colab.kernel.invokeFunction('convertToInteractive',\n",
              "                                                     [key], {});\n",
              "          if (!dataTable) return;\n",
              "\n",
              "          const docLinkHtml = 'Like what you see? Visit the ' +\n",
              "            '<a target=\"_blank\" href=https://colab.research.google.com/notebooks/data_table.ipynb>data table notebook</a>'\n",
              "            + ' to learn more about interactive tables.';\n",
              "          element.innerHTML = '';\n",
              "          dataTable['output_type'] = 'display_data';\n",
              "          await google.colab.output.renderOutput(dataTable, element);\n",
              "          const docLink = document.createElement('div');\n",
              "          docLink.innerHTML = docLinkHtml;\n",
              "          element.appendChild(docLink);\n",
              "        }\n",
              "      </script>\n",
              "    </div>\n",
              "  </div>\n",
              "  "
            ]
          },
          "metadata": {},
          "execution_count": 532
        }
      ]
    },
    {
      "cell_type": "code",
      "source": [
        "len(test_df)"
      ],
      "metadata": {
        "colab": {
          "base_uri": "https://localhost:8080/"
        },
        "id": "wkNs_S5_BSOw",
        "outputId": "2b5e01e5-1f9d-4f9a-9645-17b73e02bc9a"
      },
      "execution_count": 533,
      "outputs": [
        {
          "output_type": "execute_result",
          "data": {
            "text/plain": [
              "7806"
            ]
          },
          "metadata": {},
          "execution_count": 533
        }
      ]
    },
    {
      "cell_type": "code",
      "source": [
        "test_df = test_df.sample(frac=0.4)"
      ],
      "metadata": {
        "id": "JPALoAU3bkWn"
      },
      "execution_count": 534,
      "outputs": []
    },
    {
      "cell_type": "code",
      "source": [
        "test_df = test_df.reset_index(drop=True)"
      ],
      "metadata": {
        "id": "GKuIS6Nebqnz"
      },
      "execution_count": 535,
      "outputs": []
    },
    {
      "cell_type": "code",
      "source": [
        "feat = features_extraction(test_df)\n",
        "lab = test_df[\"label\"]"
      ],
      "metadata": {
        "colab": {
          "base_uri": "https://localhost:8080/"
        },
        "id": "F3zhK5QWAFMK",
        "outputId": "28c9f42a-925c-4992-cb59-eb8c2a10ba16"
      },
      "execution_count": 536,
      "outputs": [
        {
          "output_type": "stream",
          "name": "stdout",
          "text": [
            "   cosine_similarity  jaccard_similarity  bigram_matching  syno_match\n",
            "0                  1                   1                0           1\n",
            "1                  2                   2                0           2\n",
            "2                  1                   1                0           1\n",
            "3                  2                   2                0           2\n",
            "4                  2                   2                1           2\n",
            "3122\n"
          ]
        }
      ]
    },
    {
      "cell_type": "markdown",
      "source": [
        "#SVM ON TEST DATA"
      ],
      "metadata": {
        "id": "hqRJkaSkb9uO"
      }
    },
    {
      "cell_type": "code",
      "source": [
        "prediction = svc_model.predict(feat)"
      ],
      "metadata": {
        "id": "Vpq_s2wKBPLO"
      },
      "execution_count": 537,
      "outputs": []
    },
    {
      "cell_type": "code",
      "source": [
        "cm= confusion_matrix(lab, prediction)\n",
        "cm"
      ],
      "metadata": {
        "colab": {
          "base_uri": "https://localhost:8080/"
        },
        "id": "k8uqqnfiCQ39",
        "outputId": "42ce8713-06ae-4c6c-a9f5-87a9b06b7795"
      },
      "execution_count": 538,
      "outputs": [
        {
          "output_type": "execute_result",
          "data": {
            "text/plain": [
              "array([[1556,  163],\n",
              "       [ 826,  577]])"
            ]
          },
          "metadata": {},
          "execution_count": 538
        }
      ]
    },
    {
      "cell_type": "code",
      "source": [
        "print(accuracy_score(lab,prediction))"
      ],
      "metadata": {
        "colab": {
          "base_uri": "https://localhost:8080/"
        },
        "id": "3FTDUu80CnME",
        "outputId": "4a250af4-504b-4df8-9f4a-440782ddc02b"
      },
      "execution_count": 539,
      "outputs": [
        {
          "output_type": "stream",
          "name": "stdout",
          "text": [
            "0.6832158872517617\n"
          ]
        }
      ]
    },
    {
      "cell_type": "code",
      "source": [
        "print(classification_report(lab, prediction))"
      ],
      "metadata": {
        "colab": {
          "base_uri": "https://localhost:8080/"
        },
        "id": "R7VVaCPPGsBh",
        "outputId": "1bb9a7c9-b4a9-463b-9076-46d1ff8c62ad"
      },
      "execution_count": 540,
      "outputs": [
        {
          "output_type": "stream",
          "name": "stdout",
          "text": [
            "              precision    recall  f1-score   support\n",
            "\n",
            "           0       0.65      0.91      0.76      1719\n",
            "           1       0.78      0.41      0.54      1403\n",
            "\n",
            "    accuracy                           0.68      3122\n",
            "   macro avg       0.72      0.66      0.65      3122\n",
            "weighted avg       0.71      0.68      0.66      3122\n",
            "\n"
          ]
        }
      ]
    },
    {
      "cell_type": "markdown",
      "source": [
        "#RFC ON TEST DATA"
      ],
      "metadata": {
        "id": "sGfVwIQXcDwL"
      }
    },
    {
      "cell_type": "code",
      "source": [
        "y_pred= rfc_model.predict(feat) "
      ],
      "metadata": {
        "id": "mAMUsS6DCtnC"
      },
      "execution_count": 541,
      "outputs": []
    },
    {
      "cell_type": "code",
      "source": [
        "cm= confusion_matrix(lab, prediction)\n",
        "cm"
      ],
      "metadata": {
        "colab": {
          "base_uri": "https://localhost:8080/"
        },
        "id": "YHdbBapZElx2",
        "outputId": "a55a7e87-3333-475d-f2cf-22c7c0042614"
      },
      "execution_count": 542,
      "outputs": [
        {
          "output_type": "execute_result",
          "data": {
            "text/plain": [
              "array([[1556,  163],\n",
              "       [ 826,  577]])"
            ]
          },
          "metadata": {},
          "execution_count": 542
        }
      ]
    },
    {
      "cell_type": "code",
      "source": [
        "print(accuracy_score(lab,prediction))"
      ],
      "metadata": {
        "colab": {
          "base_uri": "https://localhost:8080/"
        },
        "id": "OeU8rat5Eo8d",
        "outputId": "aa7ad50c-e7a4-4c3d-bac9-68bb429524c5"
      },
      "execution_count": 543,
      "outputs": [
        {
          "output_type": "stream",
          "name": "stdout",
          "text": [
            "0.6832158872517617\n"
          ]
        }
      ]
    },
    {
      "cell_type": "code",
      "source": [
        "print(classification_report(lab, prediction))"
      ],
      "metadata": {
        "colab": {
          "base_uri": "https://localhost:8080/"
        },
        "id": "yKbB9bqVGq0m",
        "outputId": "76629c3d-7078-4705-91c1-6c8cffcc2334"
      },
      "execution_count": 544,
      "outputs": [
        {
          "output_type": "stream",
          "name": "stdout",
          "text": [
            "              precision    recall  f1-score   support\n",
            "\n",
            "           0       0.65      0.91      0.76      1719\n",
            "           1       0.78      0.41      0.54      1403\n",
            "\n",
            "    accuracy                           0.68      3122\n",
            "   macro avg       0.72      0.66      0.65      3122\n",
            "weighted avg       0.71      0.68      0.66      3122\n",
            "\n"
          ]
        }
      ]
    }
  ]
}